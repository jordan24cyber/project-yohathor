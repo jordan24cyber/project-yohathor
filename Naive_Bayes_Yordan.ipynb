{
  "nbformat": 4,
  "nbformat_minor": 0,
  "metadata": {
    "colab": {
      "provenance": [],
      "authorship_tag": "ABX9TyOdIKvA7GBBfsUkQ82HXgO5",
      "include_colab_link": true
    },
    "kernelspec": {
      "name": "python3",
      "display_name": "Python 3"
    },
    "language_info": {
      "name": "python"
    }
  },
  "cells": [
    {
      "cell_type": "markdown",
      "metadata": {
        "id": "view-in-github",
        "colab_type": "text"
      },
      "source": [
        "<a href=\"https://colab.research.google.com/github/jordan24cyber/project-yohathor/blob/main/Naive_Bayes_Yordan.ipynb\" target=\"_parent\"><img src=\"https://colab.research.google.com/assets/colab-badge.svg\" alt=\"Open In Colab\"/></a>"
      ]
    },
    {
      "cell_type": "markdown",
      "source": [
        "Import Library"
      ],
      "metadata": {
        "id": "eAc12JjDAiLf"
      }
    },
    {
      "cell_type": "code",
      "source": [
        "import pandas as pd\n",
        "import numpy as np\n",
        "from sklearn.model_selection import train_test_split\n",
        "from sklearn.preprocessing import LabelEncoder, StandardScaler\n",
        "from sklearn.naive_bayes import GaussianNB\n",
        "from sklearn.metrics import accuracy_score, classification_report, confusion_matrix\n",
        "from imblearn.over_sampling import SMOTE\n",
        "import seaborn as sns\n",
        "import matplotlib.pyplot as plt"
      ],
      "metadata": {
        "id": "iVw1nUmC1A-R"
      },
      "execution_count": null,
      "outputs": []
    },
    {
      "cell_type": "markdown",
      "source": [
        "Membaca Dataset"
      ],
      "metadata": {
        "id": "gQvnLqsjAlnz"
      }
    },
    {
      "cell_type": "code",
      "source": [
        "# Load dataset\n",
        "data = pd.read_csv(\"earthquake_alert_balanced_dataset.csv\")\n",
        "\n",
        "# Lihat 5 data pertama\n",
        "display(data.head())\n",
        "\n",
        "# Cek struktur data\n",
        "data.info()\n"
      ],
      "metadata": {
        "colab": {
          "base_uri": "https://localhost:8080/",
          "height": 432
        },
        "id": "px0I1YPX1XEI",
        "outputId": "4fd8c19b-9af6-40f8-b1a6-310a44d17cca"
      },
      "execution_count": null,
      "outputs": [
        {
          "output_type": "display_data",
          "data": {
            "text/plain": [
              "   magnitude  depth  cdi  mmi   sig  alert\n",
              "0        7.0   14.0  8.0  7.0   0.0  green\n",
              "1        6.9   25.0  4.0  4.0 -33.0  green\n",
              "2        7.0  579.0  3.0  3.0 -13.0  green\n",
              "3        7.3   37.0  5.0  5.0  65.0  green\n",
              "4        6.6  624.0  0.0  2.0 -98.0  green"
            ],
            "text/html": [
              "\n",
              "  <div id=\"df-1953f0a5-bcff-456e-8aee-f4aa2f696236\" class=\"colab-df-container\">\n",
              "    <div>\n",
              "<style scoped>\n",
              "    .dataframe tbody tr th:only-of-type {\n",
              "        vertical-align: middle;\n",
              "    }\n",
              "\n",
              "    .dataframe tbody tr th {\n",
              "        vertical-align: top;\n",
              "    }\n",
              "\n",
              "    .dataframe thead th {\n",
              "        text-align: right;\n",
              "    }\n",
              "</style>\n",
              "<table border=\"1\" class=\"dataframe\">\n",
              "  <thead>\n",
              "    <tr style=\"text-align: right;\">\n",
              "      <th></th>\n",
              "      <th>magnitude</th>\n",
              "      <th>depth</th>\n",
              "      <th>cdi</th>\n",
              "      <th>mmi</th>\n",
              "      <th>sig</th>\n",
              "      <th>alert</th>\n",
              "    </tr>\n",
              "  </thead>\n",
              "  <tbody>\n",
              "    <tr>\n",
              "      <th>0</th>\n",
              "      <td>7.0</td>\n",
              "      <td>14.0</td>\n",
              "      <td>8.0</td>\n",
              "      <td>7.0</td>\n",
              "      <td>0.0</td>\n",
              "      <td>green</td>\n",
              "    </tr>\n",
              "    <tr>\n",
              "      <th>1</th>\n",
              "      <td>6.9</td>\n",
              "      <td>25.0</td>\n",
              "      <td>4.0</td>\n",
              "      <td>4.0</td>\n",
              "      <td>-33.0</td>\n",
              "      <td>green</td>\n",
              "    </tr>\n",
              "    <tr>\n",
              "      <th>2</th>\n",
              "      <td>7.0</td>\n",
              "      <td>579.0</td>\n",
              "      <td>3.0</td>\n",
              "      <td>3.0</td>\n",
              "      <td>-13.0</td>\n",
              "      <td>green</td>\n",
              "    </tr>\n",
              "    <tr>\n",
              "      <th>3</th>\n",
              "      <td>7.3</td>\n",
              "      <td>37.0</td>\n",
              "      <td>5.0</td>\n",
              "      <td>5.0</td>\n",
              "      <td>65.0</td>\n",
              "      <td>green</td>\n",
              "    </tr>\n",
              "    <tr>\n",
              "      <th>4</th>\n",
              "      <td>6.6</td>\n",
              "      <td>624.0</td>\n",
              "      <td>0.0</td>\n",
              "      <td>2.0</td>\n",
              "      <td>-98.0</td>\n",
              "      <td>green</td>\n",
              "    </tr>\n",
              "  </tbody>\n",
              "</table>\n",
              "</div>\n",
              "    <div class=\"colab-df-buttons\">\n",
              "\n",
              "  <div class=\"colab-df-container\">\n",
              "    <button class=\"colab-df-convert\" onclick=\"convertToInteractive('df-1953f0a5-bcff-456e-8aee-f4aa2f696236')\"\n",
              "            title=\"Convert this dataframe to an interactive table.\"\n",
              "            style=\"display:none;\">\n",
              "\n",
              "  <svg xmlns=\"http://www.w3.org/2000/svg\" height=\"24px\" viewBox=\"0 -960 960 960\">\n",
              "    <path d=\"M120-120v-720h720v720H120Zm60-500h600v-160H180v160Zm220 220h160v-160H400v160Zm0 220h160v-160H400v160ZM180-400h160v-160H180v160Zm440 0h160v-160H620v160ZM180-180h160v-160H180v160Zm440 0h160v-160H620v160Z\"/>\n",
              "  </svg>\n",
              "    </button>\n",
              "\n",
              "  <style>\n",
              "    .colab-df-container {\n",
              "      display:flex;\n",
              "      gap: 12px;\n",
              "    }\n",
              "\n",
              "    .colab-df-convert {\n",
              "      background-color: #E8F0FE;\n",
              "      border: none;\n",
              "      border-radius: 50%;\n",
              "      cursor: pointer;\n",
              "      display: none;\n",
              "      fill: #1967D2;\n",
              "      height: 32px;\n",
              "      padding: 0 0 0 0;\n",
              "      width: 32px;\n",
              "    }\n",
              "\n",
              "    .colab-df-convert:hover {\n",
              "      background-color: #E2EBFA;\n",
              "      box-shadow: 0px 1px 2px rgba(60, 64, 67, 0.3), 0px 1px 3px 1px rgba(60, 64, 67, 0.15);\n",
              "      fill: #174EA6;\n",
              "    }\n",
              "\n",
              "    .colab-df-buttons div {\n",
              "      margin-bottom: 4px;\n",
              "    }\n",
              "\n",
              "    [theme=dark] .colab-df-convert {\n",
              "      background-color: #3B4455;\n",
              "      fill: #D2E3FC;\n",
              "    }\n",
              "\n",
              "    [theme=dark] .colab-df-convert:hover {\n",
              "      background-color: #434B5C;\n",
              "      box-shadow: 0px 1px 3px 1px rgba(0, 0, 0, 0.15);\n",
              "      filter: drop-shadow(0px 1px 2px rgba(0, 0, 0, 0.3));\n",
              "      fill: #FFFFFF;\n",
              "    }\n",
              "  </style>\n",
              "\n",
              "    <script>\n",
              "      const buttonEl =\n",
              "        document.querySelector('#df-1953f0a5-bcff-456e-8aee-f4aa2f696236 button.colab-df-convert');\n",
              "      buttonEl.style.display =\n",
              "        google.colab.kernel.accessAllowed ? 'block' : 'none';\n",
              "\n",
              "      async function convertToInteractive(key) {\n",
              "        const element = document.querySelector('#df-1953f0a5-bcff-456e-8aee-f4aa2f696236');\n",
              "        const dataTable =\n",
              "          await google.colab.kernel.invokeFunction('convertToInteractive',\n",
              "                                                    [key], {});\n",
              "        if (!dataTable) return;\n",
              "\n",
              "        const docLinkHtml = 'Like what you see? Visit the ' +\n",
              "          '<a target=\"_blank\" href=https://colab.research.google.com/notebooks/data_table.ipynb>data table notebook</a>'\n",
              "          + ' to learn more about interactive tables.';\n",
              "        element.innerHTML = '';\n",
              "        dataTable['output_type'] = 'display_data';\n",
              "        await google.colab.output.renderOutput(dataTable, element);\n",
              "        const docLink = document.createElement('div');\n",
              "        docLink.innerHTML = docLinkHtml;\n",
              "        element.appendChild(docLink);\n",
              "      }\n",
              "    </script>\n",
              "  </div>\n",
              "\n",
              "\n",
              "    <div id=\"df-e04803b2-5361-4061-85ed-a9273e81baa5\">\n",
              "      <button class=\"colab-df-quickchart\" onclick=\"quickchart('df-e04803b2-5361-4061-85ed-a9273e81baa5')\"\n",
              "                title=\"Suggest charts\"\n",
              "                style=\"display:none;\">\n",
              "\n",
              "<svg xmlns=\"http://www.w3.org/2000/svg\" height=\"24px\"viewBox=\"0 0 24 24\"\n",
              "     width=\"24px\">\n",
              "    <g>\n",
              "        <path d=\"M19 3H5c-1.1 0-2 .9-2 2v14c0 1.1.9 2 2 2h14c1.1 0 2-.9 2-2V5c0-1.1-.9-2-2-2zM9 17H7v-7h2v7zm4 0h-2V7h2v10zm4 0h-2v-4h2v4z\"/>\n",
              "    </g>\n",
              "</svg>\n",
              "      </button>\n",
              "\n",
              "<style>\n",
              "  .colab-df-quickchart {\n",
              "      --bg-color: #E8F0FE;\n",
              "      --fill-color: #1967D2;\n",
              "      --hover-bg-color: #E2EBFA;\n",
              "      --hover-fill-color: #174EA6;\n",
              "      --disabled-fill-color: #AAA;\n",
              "      --disabled-bg-color: #DDD;\n",
              "  }\n",
              "\n",
              "  [theme=dark] .colab-df-quickchart {\n",
              "      --bg-color: #3B4455;\n",
              "      --fill-color: #D2E3FC;\n",
              "      --hover-bg-color: #434B5C;\n",
              "      --hover-fill-color: #FFFFFF;\n",
              "      --disabled-bg-color: #3B4455;\n",
              "      --disabled-fill-color: #666;\n",
              "  }\n",
              "\n",
              "  .colab-df-quickchart {\n",
              "    background-color: var(--bg-color);\n",
              "    border: none;\n",
              "    border-radius: 50%;\n",
              "    cursor: pointer;\n",
              "    display: none;\n",
              "    fill: var(--fill-color);\n",
              "    height: 32px;\n",
              "    padding: 0;\n",
              "    width: 32px;\n",
              "  }\n",
              "\n",
              "  .colab-df-quickchart:hover {\n",
              "    background-color: var(--hover-bg-color);\n",
              "    box-shadow: 0 1px 2px rgba(60, 64, 67, 0.3), 0 1px 3px 1px rgba(60, 64, 67, 0.15);\n",
              "    fill: var(--button-hover-fill-color);\n",
              "  }\n",
              "\n",
              "  .colab-df-quickchart-complete:disabled,\n",
              "  .colab-df-quickchart-complete:disabled:hover {\n",
              "    background-color: var(--disabled-bg-color);\n",
              "    fill: var(--disabled-fill-color);\n",
              "    box-shadow: none;\n",
              "  }\n",
              "\n",
              "  .colab-df-spinner {\n",
              "    border: 2px solid var(--fill-color);\n",
              "    border-color: transparent;\n",
              "    border-bottom-color: var(--fill-color);\n",
              "    animation:\n",
              "      spin 1s steps(1) infinite;\n",
              "  }\n",
              "\n",
              "  @keyframes spin {\n",
              "    0% {\n",
              "      border-color: transparent;\n",
              "      border-bottom-color: var(--fill-color);\n",
              "      border-left-color: var(--fill-color);\n",
              "    }\n",
              "    20% {\n",
              "      border-color: transparent;\n",
              "      border-left-color: var(--fill-color);\n",
              "      border-top-color: var(--fill-color);\n",
              "    }\n",
              "    30% {\n",
              "      border-color: transparent;\n",
              "      border-left-color: var(--fill-color);\n",
              "      border-top-color: var(--fill-color);\n",
              "      border-right-color: var(--fill-color);\n",
              "    }\n",
              "    40% {\n",
              "      border-color: transparent;\n",
              "      border-right-color: var(--fill-color);\n",
              "      border-top-color: var(--fill-color);\n",
              "    }\n",
              "    60% {\n",
              "      border-color: transparent;\n",
              "      border-right-color: var(--fill-color);\n",
              "    }\n",
              "    80% {\n",
              "      border-color: transparent;\n",
              "      border-right-color: var(--fill-color);\n",
              "      border-bottom-color: var(--fill-color);\n",
              "    }\n",
              "    90% {\n",
              "      border-color: transparent;\n",
              "      border-bottom-color: var(--fill-color);\n",
              "    }\n",
              "  }\n",
              "</style>\n",
              "\n",
              "      <script>\n",
              "        async function quickchart(key) {\n",
              "          const quickchartButtonEl =\n",
              "            document.querySelector('#' + key + ' button');\n",
              "          quickchartButtonEl.disabled = true;  // To prevent multiple clicks.\n",
              "          quickchartButtonEl.classList.add('colab-df-spinner');\n",
              "          try {\n",
              "            const charts = await google.colab.kernel.invokeFunction(\n",
              "                'suggestCharts', [key], {});\n",
              "          } catch (error) {\n",
              "            console.error('Error during call to suggestCharts:', error);\n",
              "          }\n",
              "          quickchartButtonEl.classList.remove('colab-df-spinner');\n",
              "          quickchartButtonEl.classList.add('colab-df-quickchart-complete');\n",
              "        }\n",
              "        (() => {\n",
              "          let quickchartButtonEl =\n",
              "            document.querySelector('#df-e04803b2-5361-4061-85ed-a9273e81baa5 button');\n",
              "          quickchartButtonEl.style.display =\n",
              "            google.colab.kernel.accessAllowed ? 'block' : 'none';\n",
              "        })();\n",
              "      </script>\n",
              "    </div>\n",
              "\n",
              "    </div>\n",
              "  </div>\n"
            ],
            "application/vnd.google.colaboratory.intrinsic+json": {
              "type": "dataframe",
              "summary": "{\n  \"name\": \"data\",\n  \"rows\": 5,\n  \"fields\": [\n    {\n      \"column\": \"magnitude\",\n      \"properties\": {\n        \"dtype\": \"number\",\n        \"std\": 0.2509980079602227,\n        \"min\": 6.6,\n        \"max\": 7.3,\n        \"num_unique_values\": 4,\n        \"samples\": [\n          6.9,\n          6.6,\n          7.0\n        ],\n        \"semantic_type\": \"\",\n        \"description\": \"\"\n      }\n    },\n    {\n      \"column\": \"depth\",\n      \"properties\": {\n        \"dtype\": \"number\",\n        \"std\": 316.0849569340496,\n        \"min\": 14.0,\n        \"max\": 624.0,\n        \"num_unique_values\": 5,\n        \"samples\": [\n          25.0,\n          624.0,\n          579.0\n        ],\n        \"semantic_type\": \"\",\n        \"description\": \"\"\n      }\n    },\n    {\n      \"column\": \"cdi\",\n      \"properties\": {\n        \"dtype\": \"number\",\n        \"std\": 2.9154759474226504,\n        \"min\": 0.0,\n        \"max\": 8.0,\n        \"num_unique_values\": 5,\n        \"samples\": [\n          4.0,\n          0.0,\n          3.0\n        ],\n        \"semantic_type\": \"\",\n        \"description\": \"\"\n      }\n    },\n    {\n      \"column\": \"mmi\",\n      \"properties\": {\n        \"dtype\": \"number\",\n        \"std\": 1.9235384061671346,\n        \"min\": 2.0,\n        \"max\": 7.0,\n        \"num_unique_values\": 5,\n        \"samples\": [\n          4.0,\n          2.0,\n          3.0\n        ],\n        \"semantic_type\": \"\",\n        \"description\": \"\"\n      }\n    },\n    {\n      \"column\": \"sig\",\n      \"properties\": {\n        \"dtype\": \"number\",\n        \"std\": 58.8192145476289,\n        \"min\": -98.0,\n        \"max\": 65.0,\n        \"num_unique_values\": 5,\n        \"samples\": [\n          -33.0,\n          -98.0,\n          -13.0\n        ],\n        \"semantic_type\": \"\",\n        \"description\": \"\"\n      }\n    },\n    {\n      \"column\": \"alert\",\n      \"properties\": {\n        \"dtype\": \"category\",\n        \"num_unique_values\": 1,\n        \"samples\": [\n          \"green\"\n        ],\n        \"semantic_type\": \"\",\n        \"description\": \"\"\n      }\n    }\n  ]\n}"
            }
          },
          "metadata": {}
        },
        {
          "output_type": "stream",
          "name": "stdout",
          "text": [
            "<class 'pandas.core.frame.DataFrame'>\n",
            "RangeIndex: 1300 entries, 0 to 1299\n",
            "Data columns (total 6 columns):\n",
            " #   Column     Non-Null Count  Dtype  \n",
            "---  ------     --------------  -----  \n",
            " 0   magnitude  1300 non-null   float64\n",
            " 1   depth      1300 non-null   float64\n",
            " 2   cdi        1300 non-null   float64\n",
            " 3   mmi        1300 non-null   float64\n",
            " 4   sig        1300 non-null   float64\n",
            " 5   alert      1300 non-null   object \n",
            "dtypes: float64(5), object(1)\n",
            "memory usage: 61.1+ KB\n"
          ]
        }
      ]
    },
    {
      "cell_type": "markdown",
      "source": [
        "CEK APAKAH ADA DATA YANG NULL DAN DUPLIKAT"
      ],
      "metadata": {
        "id": "TEhXfZY_Aout"
      }
    },
    {
      "cell_type": "code",
      "source": [
        "# Cek data kosong (null)\n",
        "print(\"=== CEK DATA NULL ===\")\n",
        "print(data.isnull().sum())\n",
        "\n",
        "# Cek duplikat\n",
        "print(\"\\nJumlah duplikat:\", data.duplicated().sum())\n",
        "\n",
        "# Hapus duplikat jika ada\n",
        "data = data.drop_duplicates()\n"
      ],
      "metadata": {
        "colab": {
          "base_uri": "https://localhost:8080/"
        },
        "id": "Q-36t4VJ1y1T",
        "outputId": "5df5625d-62f6-4f7f-e6cd-0f24e21d7816"
      },
      "execution_count": null,
      "outputs": [
        {
          "output_type": "stream",
          "name": "stdout",
          "text": [
            "=== CEK DATA NULL ===\n",
            "magnitude    0\n",
            "depth        0\n",
            "cdi          0\n",
            "mmi          0\n",
            "sig          0\n",
            "alert        0\n",
            "dtype: int64\n",
            "\n",
            "Jumlah duplikat: 44\n"
          ]
        }
      ]
    },
    {
      "cell_type": "markdown",
      "source": [
        "MEMISAHKAN FITUR DAN LABEL"
      ],
      "metadata": {
        "id": "FpH1jw0xAsrL"
      }
    },
    {
      "cell_type": "code",
      "source": [
        "# Tentukan fitur dan label\n",
        "X = data[['magnitude', 'depth', 'cdi', 'mmi', 'sig']]\n",
        "y = data['alert']\n",
        "\n",
        "# Encode label menjadi angka\n",
        "le = LabelEncoder()\n",
        "y_encoded = le.fit_transform(y)\n",
        "\n",
        "# Cek hasil encoding\n",
        "print(\"Contoh encoding:\", list(zip(y[:5], y_encoded[:5])))\n"
      ],
      "metadata": {
        "colab": {
          "base_uri": "https://localhost:8080/"
        },
        "id": "n1GDyKRS13E4",
        "outputId": "6ec4588c-5a37-469c-b333-f3c4f2d2d035"
      },
      "execution_count": null,
      "outputs": [
        {
          "output_type": "stream",
          "name": "stdout",
          "text": [
            "Contoh encoding: [('green', np.int64(0)), ('green', np.int64(0)), ('green', np.int64(0)), ('green', np.int64(0)), ('green', np.int64(0))]\n"
          ]
        }
      ]
    },
    {
      "cell_type": "markdown",
      "source": [
        "BALANCING DATA MENGGUNAKAN SMOTE"
      ],
      "metadata": {
        "id": "4253uk1yAvNy"
      }
    },
    {
      "cell_type": "code",
      "source": [
        "# Cek distribusi sebelum SMOTE\n",
        "print(\"=== Distribusi Sebelum Balancing ===\")\n",
        "print(pd.Series(y_encoded).value_counts())\n",
        "\n",
        "# Terapkan SMOTE\n",
        "smote = SMOTE(random_state=42)\n",
        "X_resampled, y_resampled = smote.fit_resample(X, y_encoded)\n",
        "\n",
        "# Cek distribusi setelah SMOTE\n",
        "print(\"\\n=== Distribusi Setelah SMOTE ===\")\n",
        "print(pd.Series(y_resampled).value_counts())\n",
        "\n",
        "# Gabungkan hasil ke dataframe\n",
        "balanced_data = pd.DataFrame(X_resampled, columns=X.columns)\n",
        "balanced_data['earthquake'] = le.inverse_transform(y_resampled)\n",
        "\n",
        "# Simpan ke Excel\n",
        "output_path = \"earthquake_alert_balanced.xlsx\"\n",
        "balanced_data.to_excel(output_path, index=False)"
      ],
      "metadata": {
        "colab": {
          "base_uri": "https://localhost:8080/"
        },
        "id": "d_AhL8182TmL",
        "outputId": "0da6cd1d-0c33-4db2-f7ae-813370cbbbc4"
      },
      "execution_count": null,
      "outputs": [
        {
          "output_type": "stream",
          "name": "stdout",
          "text": [
            "=== Distribusi Sebelum Balancing ===\n",
            "0    322\n",
            "3    318\n",
            "1    316\n",
            "2    300\n",
            "Name: count, dtype: int64\n",
            "\n",
            "=== Distribusi Setelah SMOTE ===\n",
            "0    322\n",
            "3    322\n",
            "1    322\n",
            "2    322\n",
            "Name: count, dtype: int64\n"
          ]
        }
      ]
    },
    {
      "cell_type": "markdown",
      "source": [
        "NORMALISASI DAN SPLIT DATA"
      ],
      "metadata": {
        "id": "xiKbNgj5Ayf0"
      }
    },
    {
      "cell_type": "code",
      "source": [
        "# Normalisasi fitur agar skala serupa\n",
        "scaler = StandardScaler()\n",
        "X_scaled = scaler.fit_transform(X_resampled)\n",
        "\n",
        "# Bagi data menjadi train dan test\n",
        "X_train, X_test, y_train, y_test = train_test_split(\n",
        "    X_scaled, y_resampled, test_size=0.2, random_state=42\n",
        ")\n",
        "\n",
        "print(\"Data training:\", X_train.shape)\n",
        "print(\"Data testing:\", X_test.shape)\n"
      ],
      "metadata": {
        "colab": {
          "base_uri": "https://localhost:8080/"
        },
        "id": "at5B2cah5F3p",
        "outputId": "2c8985f1-91a0-4b75-eae4-38e0f38b798c"
      },
      "execution_count": null,
      "outputs": [
        {
          "output_type": "stream",
          "name": "stdout",
          "text": [
            "Data training: (1030, 5)\n",
            "Data testing: (258, 5)\n"
          ]
        }
      ]
    },
    {
      "cell_type": "markdown",
      "source": [
        "TRAINING MODEL NAIVE BAYES"
      ],
      "metadata": {
        "id": "Y4cQuhV9A2jt"
      }
    },
    {
      "cell_type": "code",
      "source": [
        "# Buat model Naive Bayes\n",
        "model = GaussianNB()\n",
        "\n",
        "# Latih model\n",
        "model.fit(X_train, y_train)\n",
        "\n",
        "print(\"Model berhasil dilatih ✅\")\n"
      ],
      "metadata": {
        "colab": {
          "base_uri": "https://localhost:8080/"
        },
        "id": "K7CG-TPT5J5m",
        "outputId": "3619e794-cad2-4e96-fbcb-95656a271c9b"
      },
      "execution_count": null,
      "outputs": [
        {
          "output_type": "stream",
          "name": "stdout",
          "text": [
            "Model berhasil dilatih ✅\n"
          ]
        }
      ]
    },
    {
      "cell_type": "markdown",
      "source": [
        "EVALUASI MODEL"
      ],
      "metadata": {
        "id": "LudUGLHuA4oo"
      }
    },
    {
      "cell_type": "code",
      "source": [
        "# Prediksi data uji\n",
        "y_pred = model.predict(X_test)\n",
        "\n",
        "# Evaluasi hasil\n",
        "print(\"=== HASIL EVALUASI ===\")\n",
        "print(f\"Akurasi: {accuracy_score(y_test, y_pred)*100:.2f}%\\n\")\n",
        "print(\"Classification Report:\\n\", classification_report(y_test, y_pred, target_names=le.classes_))\n",
        "\n",
        "# Confusion Matrix visual\n",
        "cm = confusion_matrix(y_test, y_pred)\n",
        "plt.figure(figsize=(6,4))\n",
        "sns.heatmap(cm, annot=True, fmt='d', cmap='Blues', xticklabels=le.classes_, yticklabels=le.classes_)\n",
        "plt.xlabel('Predicted')\n",
        "plt.ylabel('Actual')\n",
        "plt.title('Confusion Matrix')\n",
        "plt.show()\n"
      ],
      "metadata": {
        "colab": {
          "base_uri": "https://localhost:8080/",
          "height": 670
        },
        "id": "T99EwRN95Ooi",
        "outputId": "4a5b3ba0-b04e-4181-9469-b9c4c54b8a8b"
      },
      "execution_count": null,
      "outputs": [
        {
          "output_type": "stream",
          "name": "stdout",
          "text": [
            "=== HASIL EVALUASI ===\n",
            "Akurasi: 63.57%\n",
            "\n",
            "Classification Report:\n",
            "               precision    recall  f1-score   support\n",
            "\n",
            "       green       0.83      0.76      0.80        72\n",
            "      orange       0.49      0.36      0.41        59\n",
            "         red       0.59      0.86      0.70        63\n",
            "      yellow       0.60      0.53      0.56        64\n",
            "\n",
            "    accuracy                           0.64       258\n",
            "   macro avg       0.63      0.63      0.62       258\n",
            "weighted avg       0.64      0.64      0.63       258\n",
            "\n"
          ]
        },
        {
          "output_type": "display_data",
          "data": {
            "text/plain": [
              "<Figure size 600x400 with 2 Axes>"
            ],
            "image/png": "[encoded data removed]"
          },
          "metadata": {}
        }
      ]
    },
    {
      "cell_type": "markdown",
      "source": [
        "PREDIKSI MANUAL (INPUT DARI USER)"
      ],
      "metadata": {
        "id": "CSMUmIWGA-_r"
      }
    },
    {
      "cell_type": "code",
      "source": [
        "# Import library\n",
        "import pandas as pd\n",
        "import time  # BARU: Untuk menghitung waktu eksekusi\n",
        "from sklearn.model_selection import train_test_split\n",
        "from sklearn.preprocessing import StandardScaler, LabelEncoder\n",
        "# BARU: Impor Naive Bayes, bukan Random Forest\n",
        "from sklearn.naive_bayes import GaussianNB\n",
        "# BARU: Impor metrik untuk evaluasi\n",
        "from sklearn.metrics import accuracy_score, precision_score, recall_score, classification_report\n",
        "\n",
        "print(\"📊 Tabel Skala & Logika Bahaya Variabel Gempa (Versi Narasi)\\n\")\n",
        "\n",
        "print(\"1. Magnitude (3.0 – 9.5)\")\n",
        "print(\"   Semakin tinggi nilai magnitude, semakin besar energi yang dilepaskan, sehingga potensi bahaya juga semakin besar.\\n\")\n",
        "\n",
        "print(\"2. Depth (0 – 700 km)\")\n",
        "print(\"   Semakin dangkal pusat gempa (semakin dekat ke permukaan bumi), maka getaran di permukaan akan semakin kuat dan berbahaya.\\n\")\n",
        "\n",
        "print(\"3. CDI (1 – 10)\")\n",
        "print(\"   Semakin tinggi nilai CDI (Community Determined Intensity), semakin banyak orang yang merasakan getaran kuat dari gempa.\\n\")\n",
        "\n",
        "print(\"4. MMI (1 – 12)\")\n",
        "print(\"   Semakin tinggi nilai MMI (Modified Mercalli Intensity), semakin besar kemungkinan terjadinya kerusakan fisik di permukaan.\\n\")\n",
        "\n",
        "print(\"5. SIG (-100 – 200)\")\n",
        "print(\"   Semakin tinggi nilai SIG (Significance), semakin signifikan dan luas dampak yang ditimbulkan oleh gempa.\\n\")\n",
        "\n",
        "# === 1. Baca Dataset ===\n",
        "data = pd.read_csv(\"earthquake_alert_balanced_dataset.csv\")\n",
        "\n",
        "# Pisahkan fitur (X) dan target (y)\n",
        "X = data[['magnitude', 'depth', 'cdi', 'mmi', 'sig']]\n",
        "y = data['alert']\n",
        "\n",
        "# === 2. Encode Label (alert) ===\n",
        "le = LabelEncoder()\n",
        "y_encoded = le.fit_transform(y)\n",
        "\n",
        "# === 3. Split data untuk training dan testing ===\n",
        "X_train, X_test, y_train, y_test = train_test_split(X, y_encoded, test_size=0.2, random_state=42)\n",
        "\n",
        "# === 4. Normalisasi (Scaling) ===\n",
        "# Naive Bayes (Gaussian) berasumsi data terdistribusi normal,\n",
        "# jadi StandardScaler adalah pilihan yang baik.\n",
        "scaler = StandardScaler()\n",
        "X_train_scaled = scaler.fit_transform(X_train)\n",
        "X_test_scaled = scaler.transform(X_test)\n",
        "\n",
        "# === 5. Training Model (BARU: Gaussian Naive Bayes) ===\n",
        "print(\"--- ⏱️ Memulai Training Model Naive Bayes ---\")\n",
        "start_time = time.time() # BARU: Catat waktu mulai\n",
        "\n",
        "# BARU: Menggunakan GaussianNB()\n",
        "model = GaussianNB()\n",
        "model.fit(X_train_scaled, y_train)\n",
        "\n",
        "end_time = time.time() # BARU: Catat waktu selesai\n",
        "training_time = end_time - start_time # BARU: Hitung durasi training\n",
        "print(f\"--- ✅ Training Selesai dalam {training_time:.6f} detik ---\")\n",
        "\n",
        "\n",
        "# === 5b. BARU: Evaluasi Model pada Data Test ===\n",
        "print(\"\\n--- 📈 Evaluasi Model pada Data Test (Acuan) ---\")\n",
        "# Model memprediksi data test\n",
        "y_pred = model.predict(X_test_scaled)\n",
        "\n",
        "# Hitung metrik\n",
        "# 'average='macro'' diperlukan untuk multi-class (green, orange, red)\n",
        "accuracy = accuracy_score(y_test, y_pred)\n",
        "precision = precision_score(y_test, y_pred, average='macro', zero_division=0)\n",
        "recall = recall_score(y_test, y_pred, average='macro', zero_division=0)\n",
        "\n",
        "# Tampilkan tabel ringkasan\n",
        "print(\"\\n\" + \"=\"*65)\n",
        "print(\"--- RINGKASAN METRIK MODEL ACUAN (dari Data CSV) ---\")\n",
        "print(f\"| Algoritma       | Akurasi (%) | Precision | Recall  | Waktu Training (S) |\")\n",
        "print(f\"|-----------------|-------------|-----------|---------|--------------------|\")\n",
        "# BARU: Menampilkan hasil untuk Naive Bayes\n",
        "print(f\"| Naive Bayes     | {accuracy*100:11.2f} | {precision:9.4f} | {recall:7.4f} | {training_time:18.6f} |\")\n",
        "print(\"=\"*65)\n",
        "\n",
        "# Tampilkan laporan klasifikasi lengkap\n",
        "print(\"\\n--- Laporan Klasifikasi Lengkap (Data Test) ---\")\n",
        "# 'target_names' menggunakan kelas asli dari LabelEncoder (cth: 'green', 'red')\n",
        "print(classification_report(y_test, y_pred, target_names=le.classes_, zero_division=0))\n",
        "print(\"=\"*65)\n",
        "\n",
        "\n",
        "# === 6. Input Manual dari Pengguna ===\n",
        "# Bagian ini tidak perlu diubah, akan otomatis menggunakan model Naive Bayes\n",
        "print(\"\\n=== INPUT DATA GEMPA MANUAL ===\")\n",
        "magnitude = float(input(\"Masukkan kekuatan gempa (magnitude): \"))\n",
        "depth = float(input(\"Masukkan kedalaman gempa (km): \"))\n",
        "cdi = float(input(\"Masukkan nilai CDI (Community Determined Intensity): \"))\n",
        "mmi = float(input(\"Masukkan nilai MMI (Modified Mercalli Intensity): \"))\n",
        "sig = float(input(\"Masukkan nilai Significance (SIG): \"))\n",
        "\n",
        "# Buat DataFrame input\n",
        "input_df = pd.DataFrame([[magnitude, depth, cdi, mmi, sig]],\n",
        "                        columns=['magnitude', 'depth', 'cdi', 'mmi', 'sig'])\n",
        "\n",
        "# Normalisasi input\n",
        "input_scaled = scaler.transform(input_df)\n",
        "\n",
        "# === 7. Prediksi Tingkat Peringatan ===\n",
        "pred = model.predict(input_scaled)\n",
        "pred_label = le.inverse_transform(pred)\n",
        "\n",
        "print(\"\\n🚨 Prediksi Tingkat Peringatan Gempa:\")\n",
        "print(f\"➡ Hasil prediksi alert: {pred_label[0]}\")99\n"
      ],
      "metadata": {
        "colab": {
          "base_uri": "https://localhost:8080/"
        },
        "id": "0NupLM3Q5TF5",
        "outputId": "3de24ab4-7442-48a5-bac7-c2dcb9c65fb7"
      },
      "execution_count": 11,
      "outputs": [
        {
          "output_type": "stream",
          "name": "stdout",
          "text": [
            "📊 Tabel Skala & Logika Bahaya Variabel Gempa (Versi Narasi)\n",
            "\n",
            "1. Magnitude (3.0 – 9.5)\n",
            "   Semakin tinggi nilai magnitude, semakin besar energi yang dilepaskan, sehingga potensi bahaya juga semakin besar.\n",
            "\n",
            "2. Depth (0 – 700 km)\n",
            "   Semakin dangkal pusat gempa (semakin dekat ke permukaan bumi), maka getaran di permukaan akan semakin kuat dan berbahaya.\n",
            "\n",
            "3. CDI (1 – 10)\n",
            "   Semakin tinggi nilai CDI (Community Determined Intensity), semakin banyak orang yang merasakan getaran kuat dari gempa.\n",
            "\n",
            "4. MMI (1 – 12)\n",
            "   Semakin tinggi nilai MMI (Modified Mercalli Intensity), semakin besar kemungkinan terjadinya kerusakan fisik di permukaan.\n",
            "\n",
            "5. SIG (-100 – 200)\n",
            "   Semakin tinggi nilai SIG (Significance), semakin signifikan dan luas dampak yang ditimbulkan oleh gempa.\n",
            "\n",
            "--- ⏱️ Memulai Training Model Naive Bayes ---\n",
            "--- ✅ Training Selesai dalam 0.001877 detik ---\n",
            "\n",
            "--- 📈 Evaluasi Model pada Data Test (Acuan) ---\n",
            "\n",
            "=================================================================\n",
            "--- RINGKASAN METRIK MODEL ACUAN (dari Data CSV) ---\n",
            "| Algoritma       | Akurasi (%) | Precision | Recall  | Waktu Training (S) |\n",
            "|-----------------|-------------|-----------|---------|--------------------|\n",
            "| Naive Bayes     |       68.08 |    0.6904 |  0.6855 |           0.001877 |\n",
            "=================================================================\n",
            "\n",
            "--- Laporan Klasifikasi Lengkap (Data Test) ---\n",
            "              precision    recall  f1-score   support\n",
            "\n",
            "       green       0.89      0.72      0.80        68\n",
            "      orange       0.68      0.47      0.55        73\n",
            "         red       0.66      0.94      0.77        64\n",
            "      yellow       0.53      0.62      0.57        55\n",
            "\n",
            "    accuracy                           0.68       260\n",
            "   macro avg       0.69      0.69      0.67       260\n",
            "weighted avg       0.70      0.68      0.68       260\n",
            "\n",
            "=================================================================\n",
            "\n",
            "=== INPUT DATA GEMPA MANUAL ===\n",
            "Masukkan kekuatan gempa (magnitude): 7.0\n",
            "Masukkan kedalaman gempa (km): 55\n",
            "Masukkan nilai CDI (Community Determined Intensity): 66\n",
            "Masukkan nilai MMI (Modified Mercalli Intensity): 77\n",
            "Masukkan nilai Significance (SIG): 88\n",
            "\n",
            "🚨 Prediksi Tingkat Peringatan Gempa:\n",
            "➡ Hasil prediksi alert: green\n"
          ]
        }
      ]
    }
  ]
}